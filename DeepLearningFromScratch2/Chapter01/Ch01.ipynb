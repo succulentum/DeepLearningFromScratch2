{
 "cells": [
  {
   "cell_type": "markdown",
   "metadata": {},
   "source": [
    "# Chapter 01 신경망 복습"
   ]
  },
  {
   "cell_type": "markdown",
   "metadata": {},
   "source": [
    "## 1.1 수학과 파이썬 복습"
   ]
  },
  {
   "cell_type": "markdown",
   "metadata": {},
   "source": [
    "### 1.1.1 벡터 행렬\n",
    "벡터는 행백터(가로)로 표기한다.\n"
   ]
  },
  {
   "cell_type": "code",
   "execution_count": 9,
   "metadata": {},
   "outputs": [
    {
     "name": "stdout",
     "output_type": "stream",
     "text": [
      "<class 'numpy.ndarray'>\n"
     ]
    }
   ],
   "source": [
    "import numpy as np \n",
    "x = np.array([1,2,3])\n",
    "print(x.__class__)"
   ]
  },
  {
   "cell_type": "code",
   "execution_count": 11,
   "metadata": {},
   "outputs": [
    {
     "data": {
      "text/plain": [
       "(3,)"
      ]
     },
     "execution_count": 11,
     "metadata": {},
     "output_type": "execute_result"
    }
   ],
   "source": [
    "x.shape"
   ]
  },
  {
   "cell_type": "code",
   "execution_count": 13,
   "metadata": {},
   "outputs": [
    {
     "data": {
      "text/plain": [
       "1"
      ]
     },
     "execution_count": 13,
     "metadata": {},
     "output_type": "execute_result"
    }
   ],
   "source": [
    "x.ndim"
   ]
  },
  {
   "cell_type": "code",
   "execution_count": 14,
   "metadata": {},
   "outputs": [],
   "source": [
    "W = np.array([[1,2,3], [4,5,6]])"
   ]
  },
  {
   "cell_type": "code",
   "execution_count": 15,
   "metadata": {},
   "outputs": [
    {
     "data": {
      "text/plain": [
       "(2, 3)"
      ]
     },
     "execution_count": 15,
     "metadata": {},
     "output_type": "execute_result"
    }
   ],
   "source": [
    "W.shape"
   ]
  },
  {
   "cell_type": "code",
   "execution_count": 16,
   "metadata": {},
   "outputs": [
    {
     "data": {
      "text/plain": [
       "2"
      ]
     },
     "execution_count": 16,
     "metadata": {},
     "output_type": "execute_result"
    }
   ],
   "source": [
    "W.ndim"
   ]
  },
  {
   "cell_type": "markdown",
   "metadata": {},
   "source": [
    "### 1.1.2 행렬의 원소별 연산"
   ]
  },
  {
   "cell_type": "code",
   "execution_count": 17,
   "metadata": {},
   "outputs": [
    {
     "data": {
      "text/plain": [
       "array([[ 1,  3,  5],\n",
       "       [ 7,  9, 11]])"
      ]
     },
     "execution_count": 17,
     "metadata": {},
     "output_type": "execute_result"
    }
   ],
   "source": [
    "W = np.array([[1,2,3],[4,5,6]])\n",
    "X = np.array([[0,1,2],[3,4,5]])\n",
    "W + X"
   ]
  },
  {
   "cell_type": "code",
   "execution_count": 18,
   "metadata": {},
   "outputs": [
    {
     "data": {
      "text/plain": [
       "array([[ 0,  2,  6],\n",
       "       [12, 20, 30]])"
      ]
     },
     "execution_count": 18,
     "metadata": {},
     "output_type": "execute_result"
    }
   ],
   "source": [
    "W * X"
   ]
  },
  {
   "cell_type": "markdown",
   "metadata": {},
   "source": [
    "곱하기가 행렬의 곱셈이 아니라 원소별 곱셈이다."
   ]
  },
  {
   "cell_type": "markdown",
   "metadata": {},
   "source": [
    "### 1.1.3 브로드케스트"
   ]
  },
  {
   "cell_type": "code",
   "execution_count": 19,
   "metadata": {},
   "outputs": [
    {
     "data": {
      "text/plain": [
       "array([[10, 20],\n",
       "       [30, 40]])"
      ]
     },
     "execution_count": 19,
     "metadata": {},
     "output_type": "execute_result"
    }
   ],
   "source": [
    "A = np.array([[1,2],[3,4]])\n",
    "A * 10"
   ]
  },
  {
   "cell_type": "code",
   "execution_count": 20,
   "metadata": {},
   "outputs": [
    {
     "data": {
      "text/plain": [
       "array([[10, 20],\n",
       "       [30, 40]])"
      ]
     },
     "execution_count": 20,
     "metadata": {},
     "output_type": "execute_result"
    }
   ],
   "source": [
    "A * 10"
   ]
  },
  {
   "cell_type": "code",
   "execution_count": 21,
   "metadata": {},
   "outputs": [
    {
     "data": {
      "text/plain": [
       "array([[10, 40],\n",
       "       [30, 80]])"
      ]
     },
     "execution_count": 21,
     "metadata": {},
     "output_type": "execute_result"
    }
   ],
   "source": [
    "b = np.array([10,20])\n",
    "A * b"
   ]
  },
  {
   "cell_type": "markdown",
   "metadata": {},
   "source": [
    "브로드캐스트 기능을 이용하면 형태가 다른 행렬끼리의 곱도 정의된다.(broadcast: 흩뿌리다, 전파하다)\\\n",
    "스칼라 값은 행렬의 각각 원소와 곱해지고\\\n",
    "행벡터는 크기가 세로로 늘어난다."
   ]
  },
  {
   "cell_type": "markdown",
   "metadata": {},
   "source": [
    "### 1.1.4 벡터의 내적, 행렬의 곱"
   ]
  },
  {
   "cell_type": "code",
   "execution_count": 28,
   "metadata": {},
   "outputs": [
    {
     "data": {
      "text/plain": [
       "32"
      ]
     },
     "execution_count": 28,
     "metadata": {},
     "output_type": "execute_result"
    }
   ],
   "source": [
    "# inner product\n",
    "a = np.array([1,2,3])\n",
    "b = np.array([4,5,6])\n",
    "np.dot(a,b)"
   ]
  },
  {
   "cell_type": "code",
   "execution_count": 29,
   "metadata": {},
   "outputs": [
    {
     "data": {
      "text/plain": [
       "array([[19, 22],\n",
       "       [43, 50]])"
      ]
     },
     "execution_count": 29,
     "metadata": {},
     "output_type": "execute_result"
    }
   ],
   "source": [
    "A = np.array([[1,2],[3,4]])\n",
    "B = np.array([[5,6],[7,8]])\n",
    "np.matmul(A,B)"
   ]
  },
  {
   "cell_type": "markdown",
   "metadata": {},
   "source": [
    "numpy에 익숙해지기 위해서 저자는 '100 numpy exercise'를 추천한다."
   ]
  },
  {
   "cell_type": "markdown",
   "metadata": {},
   "source": [
    "### 1.1.5 행렬의 형상 확인\n",
    "행렬의 곱에서는 행렬의 형상이 중요하다."
   ]
  },
  {
   "cell_type": "markdown",
   "metadata": {},
   "source": [
    "## 1.2 신경망 추론\n",
    "신경망은 '학습'과 '추론'을 한다. 이번 절에는 추론에 집중한다.\\\n",
    "'입력층', '은닉층', '출력층'을 나타내는 뉴런들이 있다.\\\n",
    "뉴런과 뉴련 사이에는 '가중치'를 가지는 화살표가 있다.\\\n",
    "이전 층의 값과는 상관없이 더해지는 값은 '편향'이다.\\\n",
    "완전연결계층은 행렬의 곱으로 표현될 수 있다\\\n",
    "h = xW + b"
   ]
  },
  {
   "cell_type": "markdown",
   "metadata": {},
   "source": [
    "x(1,2) * W(2,4) = h(1,4)임에 주목하자.\\\n",
    "입력이 한번에 많이 들어온다면\\\n",
    "x(N,2) * W(2,4) = h(N,4)역시 가능하다.\n"
   ]
  },
  {
   "cell_type": "code",
   "execution_count": 31,
   "metadata": {},
   "outputs": [],
   "source": [
    "W1 = np.random.randn(2,4)\n",
    "b1 = np.random.randn(4)\n",
    "x = np.random.randn(10,2)\n",
    "h = np.matmul(x, W1) + b1\n",
    "#b1의 형상이 맞지 않아도 자동으로 브로드캐스팅 된다."
   ]
  },
  {
   "cell_type": "code",
   "execution_count": 32,
   "metadata": {},
   "outputs": [
    {
     "data": {
      "text/plain": [
       "(10, 4)"
      ]
     },
     "execution_count": 32,
     "metadata": {},
     "output_type": "execute_result"
    }
   ],
   "source": [
    "h.shape"
   ]
  },
  {
   "cell_type": "markdown",
   "metadata": {},
   "source": [
    "완전연결계층은 선형변환이다. 시그모이드 함수를 이용해서 비선형적 요소를 추가할 수 있다."
   ]
  },
  {
   "cell_type": "code",
   "execution_count": 34,
   "metadata": {},
   "outputs": [],
   "source": [
    "def sigmoid(x):\n",
    "    return 1 / (1 + np.exp(-x))"
   ]
  },
  {
   "cell_type": "code",
   "execution_count": 35,
   "metadata": {},
   "outputs": [],
   "source": [
    "a = sigmoid(h)"
   ]
  },
  {
   "cell_type": "code",
   "execution_count": 36,
   "metadata": {},
   "outputs": [],
   "source": [
    "x = np.random.randn(10,2)\n",
    "W1 = np.random.randn(2,4)\n",
    "b1 = np.random.randn(4)\n",
    "W2 = np.random.randn(4,3)\n",
    "b2 = np.random.randn(3)\n",
    "\n",
    "h = np.matmul(x, W1) + b1\n",
    "a = sigmoid(h)\n",
    "s = np.matmul(a, W2) + b2"
   ]
  },
  {
   "cell_type": "code",
   "execution_count": 37,
   "metadata": {},
   "outputs": [
    {
     "data": {
      "text/plain": [
       "(10, 3)"
      ]
     },
     "execution_count": 37,
     "metadata": {},
     "output_type": "execute_result"
    }
   ],
   "source": [
    "s.shape"
   ]
  },
  {
   "cell_type": "markdown",
   "metadata": {},
   "source": [
    "### 1.2.2 계층으로 클래스화 및 순전파 구현\n",
    "아핀 계층과 시그모이드 계층으로 나눠서 구현한다.\\\n",
    "앞으로 모든 계층은 두가지 규칙을 따른다\n",
    "1. 모든 계층은 forward()와 backward() 메서드를 가진다.\n",
    "2. 모든 계층은 인스턴스 변수인 params와 grads를 가진다.\n"
   ]
  },
  {
   "cell_type": "code",
   "execution_count": 19,
   "metadata": {},
   "outputs": [],
   "source": [
    "class Sigmoid:\n",
    "    def __init__(self):\n",
    "        self.params = []\n",
    "    \n",
    "    def forward(self, x):\n",
    "        return 1 / (1 + np.exp(-x))\n",
    "    \n",
    "    \n",
    "class Affine:\n",
    "    def __init__(self, W, b):\n",
    "        self.params = [W, b]\n",
    "        \n",
    "    def forward(self, x):\n",
    "        W, b = self.params\n",
    "        out = np.matmul(x, W) + b\n",
    "        return out\n",
    "    \n",
    "class TwoLayerNet:\n",
    "    def __init__(self, input_size, hidden_size, output_size,):\n",
    "        I, H, O = input_size, hidden_size, output_size\n",
    "\n",
    "        #가중치와 편향 초기화\n",
    "        W1 = np.random.randn(I,H)\n",
    "        b1 = np.random.randn(H)\n",
    "        W2 = np.random.randn(H,O)\n",
    "        b2 = np.random.randn(O)\n",
    "        \n",
    "        #계층 생성\n",
    "        self.layers = [\n",
    "            Affine(W1, b1),\n",
    "            Sigmoid(),\n",
    "            Affine(W2, b2)\n",
    "        ]\n",
    "        \n",
    "        #모든 가중치를 리스트에 모은다.\n",
    "        self.params = []\n",
    "        for layer in self.layers:\n",
    "            self.params += layer.params\n",
    "    \n",
    "    def predict(self, x):\n",
    "        for layer in self.layers:\n",
    "            x = layer.forward(x)\n",
    "        return x"
   ]
  },
  {
   "cell_type": "code",
   "execution_count": 20,
   "metadata": {},
   "outputs": [],
   "source": [
    "x = np.random.randn(10,2)\n",
    "model = TwoLayerNet(2,4,3)\n",
    "s = model.predict(x)"
   ]
  },
  {
   "cell_type": "code",
   "execution_count": 21,
   "metadata": {},
   "outputs": [
    {
     "name": "stdout",
     "output_type": "stream",
     "text": [
      "[[-0.88025332 -0.60478639  0.46953247]\n",
      " [-0.83562504 -0.6809624   0.70074766]\n",
      " [-0.82817573 -0.98975401  1.17693695]\n",
      " [-0.91701554 -0.72134626  0.49504804]\n",
      " [-0.94548265 -0.36045017  0.24451613]\n",
      " [-0.89700866 -0.51019674  0.47772607]\n",
      " [-0.91443861 -0.45377777  0.38091591]\n",
      " [-1.0286619  -0.14153871 -0.22477472]\n",
      " [-0.89399336 -0.59858252  0.4334026 ]\n",
      " [-0.79317859 -0.93284147  1.03382379]]\n"
     ]
    }
   ],
   "source": [
    "print(s)"
   ]
  },
  {
   "cell_type": "code",
   "execution_count": null,
   "metadata": {},
   "outputs": [],
   "source": [
    "import forward_net\n",
    "x = np.random.randn(10,2)\n",
    "model = forward_net.TwoLayerNet(2,4,3)\n",
    "s = model.predict(x)"
   ]
  },
  {
   "cell_type": "markdown",
   "metadata": {},
   "source": [
    "## 1.3 신경망의 학습\n",
    "### 1.3.1 손실함수\n"
   ]
  },
  {
   "cell_type": "markdown",
   "metadata": {},
   "source": [
    "softmax와 CrossEntropyError함수를 기억하자.\\\n",
    "common/layers에 구현되어있다."
   ]
  },
  {
   "cell_type": "markdown",
   "metadata": {},
   "source": [
    "### 1.3.2 미분과 기울기\n",
    "L(scalar), v(vector)\n",
    "L = f(v) \n",
    "dL/dv = (dL/dv1, dL/dv2, ..., dL/dvn)\n",
    "\n",
    "W(m*n 행렬)\n",
    "L = g(W)\n",
    "dL/dW 도 비슷하게 정의된다. \n",
    "행렬의 기울기는 행렬과 형태가 같다."
   ]
  },
  {
   "cell_type": "markdown",
   "metadata": {},
   "source": [
    "### 1.3.3 연쇄법칙\n",
    "덧셈, 곱셈, 분기, repeat, sum, MatMul 노드 들에 대한 전파/역전파\\\n",
    "분기 노드는 역전파 할 때 더한다.\\\n",
    "repeat 노드는 N개로 분기하는 노드를 말한다.\\\n",
    "repeat 노드의 역전파는 sum이다.\\\n",
    "sum 노드의 역전파는 repeat이다."
   ]
  },
  {
   "cell_type": "code",
   "execution_count": 3,
   "metadata": {},
   "outputs": [],
   "source": [
    "import numpy as np\n",
    "D, N = 8, 7\n",
    "x = np.random.randn(1,D)\n",
    "y = np.repeat(x,N,axis = 0)\n",
    "dy = np.random.randn(N,D)\n",
    "dx = np.sum(dy, axis = 0, keepdims =True)"
   ]
  },
  {
   "cell_type": "code",
   "execution_count": 3,
   "metadata": {},
   "outputs": [
    {
     "name": "stdout",
     "output_type": "stream",
     "text": [
      "x (300, 2)\n",
      "t (300, 3)\n"
     ]
    }
   ],
   "source": [
    "import sys, os\n",
    "sys.path.append(os.pardir)\n",
    "from dataset import spiral\n",
    "import matplotlib.pyplot as plt\n",
    "\n",
    "\n",
    "x, t = spiral.load_data()\n",
    "print('x', x.shape)\n",
    "print('t', t.shape)\n",
    "\n"
   ]
  },
  {
   "cell_type": "markdown",
   "metadata": {},
   "source": [
    "### 1.4.2 신경망 구현\n",
    "two_layer_net을 확인하자."
   ]
  },
  {
   "cell_type": "code",
   "execution_count": 5,
   "metadata": {},
   "outputs": [
    {
     "data": {
      "text/plain": [
       "array([ 7, 16,  9,  0, 14,  6, 21, 22, 11, 19, 24, 23, 12, 26,  1, 13, 29,\n",
       "       15, 20, 27,  3, 28,  2, 10,  5, 25, 17, 18,  4,  8])"
      ]
     },
     "execution_count": 5,
     "metadata": {},
     "output_type": "execute_result"
    }
   ],
   "source": [
    "import numpy as np\n",
    "np.random.permutation(30)"
   ]
  },
  {
   "cell_type": "code",
   "execution_count": 9,
   "metadata": {},
   "outputs": [
    {
     "name": "stdout",
     "output_type": "stream",
     "text": [
      "| epoch 1 | iteration 10 / 10 | loss 1.125606 \n",
      "| epoch 2 | iteration 10 / 10 | loss 1.125520 \n",
      "| epoch 3 | iteration 10 / 10 | loss 1.116261 \n",
      "| epoch 4 | iteration 10 / 10 | loss 1.116287 \n",
      "| epoch 5 | iteration 10 / 10 | loss 1.112300 \n",
      "| epoch 6 | iteration 10 / 10 | loss 1.138464 \n",
      "| epoch 7 | iteration 10 / 10 | loss 1.159096 \n",
      "| epoch 8 | iteration 10 / 10 | loss 1.108632 \n",
      "| epoch 9 | iteration 10 / 10 | loss 1.117331 \n",
      "| epoch 10 | iteration 10 / 10 | loss 1.128796 \n",
      "| epoch 11 | iteration 10 / 10 | loss 1.116844 \n",
      "| epoch 12 | iteration 10 / 10 | loss 1.108339 \n",
      "| epoch 13 | iteration 10 / 10 | loss 1.087615 \n",
      "| epoch 14 | iteration 10 / 10 | loss 1.076681 \n",
      "| epoch 15 | iteration 10 / 10 | loss 1.044238 \n",
      "| epoch 16 | iteration 10 / 10 | loss 1.034578 \n",
      "| epoch 17 | iteration 10 / 10 | loss 0.957293 \n",
      "| epoch 18 | iteration 10 / 10 | loss 0.918385 \n",
      "| epoch 19 | iteration 10 / 10 | loss 0.924149 \n",
      "| epoch 20 | iteration 10 / 10 | loss 0.868514 \n",
      "| epoch 21 | iteration 10 / 10 | loss 0.849381 \n",
      "| epoch 22 | iteration 10 / 10 | loss 0.817163 \n",
      "| epoch 23 | iteration 10 / 10 | loss 0.792441 \n",
      "| epoch 24 | iteration 10 / 10 | loss 0.782665 \n",
      "| epoch 25 | iteration 10 / 10 | loss 0.823543 \n",
      "| epoch 26 | iteration 10 / 10 | loss 0.775457 \n",
      "| epoch 27 | iteration 10 / 10 | loss 0.755786 \n",
      "| epoch 28 | iteration 10 / 10 | loss 0.764477 \n",
      "| epoch 29 | iteration 10 / 10 | loss 0.783490 \n",
      "| epoch 30 | iteration 10 / 10 | loss 0.750790 \n",
      "| epoch 31 | iteration 10 / 10 | loss 0.777307 \n",
      "| epoch 32 | iteration 10 / 10 | loss 0.765084 \n",
      "| epoch 33 | iteration 10 / 10 | loss 0.772790 \n",
      "| epoch 34 | iteration 10 / 10 | loss 0.781940 \n",
      "| epoch 35 | iteration 10 / 10 | loss 0.747980 \n",
      "| epoch 36 | iteration 10 / 10 | loss 0.744992 \n",
      "| epoch 37 | iteration 10 / 10 | loss 0.756035 \n",
      "| epoch 38 | iteration 10 / 10 | loss 0.762137 \n",
      "| epoch 39 | iteration 10 / 10 | loss 0.730890 \n",
      "| epoch 40 | iteration 10 / 10 | loss 0.753027 \n",
      "| epoch 41 | iteration 10 / 10 | loss 0.759842 \n",
      "| epoch 42 | iteration 10 / 10 | loss 0.759444 \n",
      "| epoch 43 | iteration 10 / 10 | loss 0.760925 \n",
      "| epoch 44 | iteration 10 / 10 | loss 0.738524 \n",
      "| epoch 45 | iteration 10 / 10 | loss 0.748329 \n",
      "| epoch 46 | iteration 10 / 10 | loss 0.732212 \n",
      "| epoch 47 | iteration 10 / 10 | loss 0.722695 \n",
      "| epoch 48 | iteration 10 / 10 | loss 0.732945 \n",
      "| epoch 49 | iteration 10 / 10 | loss 0.722859 \n",
      "| epoch 50 | iteration 10 / 10 | loss 0.722511 \n",
      "| epoch 51 | iteration 10 / 10 | loss 0.715136 \n",
      "| epoch 52 | iteration 10 / 10 | loss 0.719546 \n",
      "| epoch 53 | iteration 10 / 10 | loss 0.737519 \n",
      "| epoch 54 | iteration 10 / 10 | loss 0.736158 \n",
      "| epoch 55 | iteration 10 / 10 | loss 0.722465 \n",
      "| epoch 56 | iteration 10 / 10 | loss 0.718289 \n",
      "| epoch 57 | iteration 10 / 10 | loss 0.707484 \n",
      "| epoch 58 | iteration 10 / 10 | loss 0.700404 \n",
      "| epoch 59 | iteration 10 / 10 | loss 0.717282 \n",
      "| epoch 60 | iteration 10 / 10 | loss 0.701417 \n",
      "| epoch 61 | iteration 10 / 10 | loss 0.713980 \n",
      "| epoch 62 | iteration 10 / 10 | loss 0.715839 \n",
      "| epoch 63 | iteration 10 / 10 | loss 0.702415 \n",
      "| epoch 64 | iteration 10 / 10 | loss 0.714766 \n",
      "| epoch 65 | iteration 10 / 10 | loss 0.725839 \n",
      "| epoch 66 | iteration 10 / 10 | loss 0.699195 \n",
      "| epoch 67 | iteration 10 / 10 | loss 0.714904 \n",
      "| epoch 68 | iteration 10 / 10 | loss 0.692379 \n",
      "| epoch 69 | iteration 10 / 10 | loss 0.695072 \n",
      "| epoch 70 | iteration 10 / 10 | loss 0.705174 \n",
      "| epoch 71 | iteration 10 / 10 | loss 0.681889 \n",
      "| epoch 72 | iteration 10 / 10 | loss 0.693108 \n",
      "| epoch 73 | iteration 10 / 10 | loss 0.667884 \n",
      "| epoch 74 | iteration 10 / 10 | loss 0.679569 \n",
      "| epoch 75 | iteration 10 / 10 | loss 0.669692 \n",
      "| epoch 76 | iteration 10 / 10 | loss 0.660103 \n",
      "| epoch 77 | iteration 10 / 10 | loss 0.694894 \n",
      "| epoch 78 | iteration 10 / 10 | loss 0.644871 \n",
      "| epoch 79 | iteration 10 / 10 | loss 0.679797 \n",
      "| epoch 80 | iteration 10 / 10 | loss 0.638993 \n",
      "| epoch 81 | iteration 10 / 10 | loss 0.635210 \n",
      "| epoch 82 | iteration 10 / 10 | loss 0.664218 \n",
      "| epoch 83 | iteration 10 / 10 | loss 0.619476 \n",
      "| epoch 84 | iteration 10 / 10 | loss 0.622967 \n",
      "| epoch 85 | iteration 10 / 10 | loss 0.612511 \n",
      "| epoch 86 | iteration 10 / 10 | loss 0.597191 \n",
      "| epoch 87 | iteration 10 / 10 | loss 0.598820 \n",
      "| epoch 88 | iteration 10 / 10 | loss 0.608389 \n",
      "| epoch 89 | iteration 10 / 10 | loss 0.588113 \n",
      "| epoch 90 | iteration 10 / 10 | loss 0.577325 \n",
      "| epoch 91 | iteration 10 / 10 | loss 0.557383 \n",
      "| epoch 92 | iteration 10 / 10 | loss 0.560459 \n",
      "| epoch 93 | iteration 10 / 10 | loss 0.544899 \n",
      "| epoch 94 | iteration 10 / 10 | loss 0.528602 \n",
      "| epoch 95 | iteration 10 / 10 | loss 0.529931 \n",
      "| epoch 96 | iteration 10 / 10 | loss 0.516307 \n",
      "| epoch 97 | iteration 10 / 10 | loss 0.512431 \n",
      "| epoch 98 | iteration 10 / 10 | loss 0.501644 \n",
      "| epoch 99 | iteration 10 / 10 | loss 0.484474 \n",
      "| epoch 100 | iteration 10 / 10 | loss 0.480006 \n",
      "| epoch 101 | iteration 10 / 10 | loss 0.460993 \n",
      "| epoch 102 | iteration 10 / 10 | loss 0.454022 \n",
      "| epoch 103 | iteration 10 / 10 | loss 0.453571 \n",
      "| epoch 104 | iteration 10 / 10 | loss 0.442993 \n",
      "| epoch 105 | iteration 10 / 10 | loss 0.436155 \n",
      "| epoch 106 | iteration 10 / 10 | loss 0.410493 \n",
      "| epoch 107 | iteration 10 / 10 | loss 0.403164 \n",
      "| epoch 108 | iteration 10 / 10 | loss 0.407611 \n",
      "| epoch 109 | iteration 10 / 10 | loss 0.403624 \n",
      "| epoch 110 | iteration 10 / 10 | loss 0.399515 \n",
      "| epoch 111 | iteration 10 / 10 | loss 0.379217 \n",
      "| epoch 112 | iteration 10 / 10 | loss 0.375047 \n",
      "| epoch 113 | iteration 10 / 10 | loss 0.362295 \n",
      "| epoch 114 | iteration 10 / 10 | loss 0.367571 \n",
      "| epoch 115 | iteration 10 / 10 | loss 0.346165 \n",
      "| epoch 116 | iteration 10 / 10 | loss 0.344898 \n",
      "| epoch 117 | iteration 10 / 10 | loss 0.335289 \n",
      "| epoch 118 | iteration 10 / 10 | loss 0.338074 \n",
      "| epoch 119 | iteration 10 / 10 | loss 0.328344 \n",
      "| epoch 120 | iteration 10 / 10 | loss 0.335197 \n",
      "| epoch 121 | iteration 10 / 10 | loss 0.315839 \n",
      "| epoch 122 | iteration 10 / 10 | loss 0.317407 \n",
      "| epoch 123 | iteration 10 / 10 | loss 0.305581 \n",
      "| epoch 124 | iteration 10 / 10 | loss 0.313067 \n",
      "| epoch 125 | iteration 10 / 10 | loss 0.300182 \n",
      "| epoch 126 | iteration 10 / 10 | loss 0.298742 \n",
      "| epoch 127 | iteration 10 / 10 | loss 0.283803 \n",
      "| epoch 128 | iteration 10 / 10 | loss 0.281184 \n",
      "| epoch 129 | iteration 10 / 10 | loss 0.281834 \n",
      "| epoch 130 | iteration 10 / 10 | loss 0.277715 \n",
      "| epoch 131 | iteration 10 / 10 | loss 0.272388 \n",
      "| epoch 132 | iteration 10 / 10 | loss 0.267077 \n",
      "| epoch 133 | iteration 10 / 10 | loss 0.270945 \n",
      "| epoch 134 | iteration 10 / 10 | loss 0.270572 \n",
      "| epoch 135 | iteration 10 / 10 | loss 0.270309 \n",
      "| epoch 136 | iteration 10 / 10 | loss 0.264373 \n",
      "| epoch 137 | iteration 10 / 10 | loss 0.263783 \n",
      "| epoch 138 | iteration 10 / 10 | loss 0.256050 \n",
      "| epoch 139 | iteration 10 / 10 | loss 0.252154 \n",
      "| epoch 140 | iteration 10 / 10 | loss 0.242911 \n",
      "| epoch 141 | iteration 10 / 10 | loss 0.239455 \n",
      "| epoch 142 | iteration 10 / 10 | loss 0.245423 \n",
      "| epoch 143 | iteration 10 / 10 | loss 0.236675 \n",
      "| epoch 144 | iteration 10 / 10 | loss 0.240319 \n",
      "| epoch 145 | iteration 10 / 10 | loss 0.233613 \n",
      "| epoch 146 | iteration 10 / 10 | loss 0.236510 \n",
      "| epoch 147 | iteration 10 / 10 | loss 0.230254 \n",
      "| epoch 148 | iteration 10 / 10 | loss 0.229329 \n",
      "| epoch 149 | iteration 10 / 10 | loss 0.224017 \n",
      "| epoch 150 | iteration 10 / 10 | loss 0.223947 \n",
      "| epoch 151 | iteration 10 / 10 | loss 0.223108 \n",
      "| epoch 152 | iteration 10 / 10 | loss 0.222641 \n",
      "| epoch 153 | iteration 10 / 10 | loss 0.216977 \n",
      "| epoch 154 | iteration 10 / 10 | loss 0.217560 \n",
      "| epoch 155 | iteration 10 / 10 | loss 0.215071 \n",
      "| epoch 156 | iteration 10 / 10 | loss 0.208358 \n",
      "| epoch 157 | iteration 10 / 10 | loss 0.209135 \n",
      "| epoch 158 | iteration 10 / 10 | loss 0.204805 \n",
      "| epoch 159 | iteration 10 / 10 | loss 0.208607 \n",
      "| epoch 160 | iteration 10 / 10 | loss 0.198156 \n",
      "| epoch 161 | iteration 10 / 10 | loss 0.204356 \n",
      "| epoch 162 | iteration 10 / 10 | loss 0.197240 \n",
      "| epoch 163 | iteration 10 / 10 | loss 0.211989 \n",
      "| epoch 164 | iteration 10 / 10 | loss 0.199901 \n",
      "| epoch 165 | iteration 10 / 10 | loss 0.196708 \n",
      "| epoch 166 | iteration 10 / 10 | loss 0.194937 \n",
      "| epoch 167 | iteration 10 / 10 | loss 0.188613 \n",
      "| epoch 168 | iteration 10 / 10 | loss 0.187136 \n",
      "| epoch 169 | iteration 10 / 10 | loss 0.185926 \n",
      "| epoch 170 | iteration 10 / 10 | loss 0.188374 \n",
      "| epoch 171 | iteration 10 / 10 | loss 0.189995 \n",
      "| epoch 172 | iteration 10 / 10 | loss 0.182731 \n",
      "| epoch 173 | iteration 10 / 10 | loss 0.184414 \n",
      "| epoch 174 | iteration 10 / 10 | loss 0.183306 \n",
      "| epoch 175 | iteration 10 / 10 | loss 0.180235 \n",
      "| epoch 176 | iteration 10 / 10 | loss 0.175111 \n",
      "| epoch 177 | iteration 10 / 10 | loss 0.177674 \n",
      "| epoch 178 | iteration 10 / 10 | loss 0.176687 \n",
      "| epoch 179 | iteration 10 / 10 | loss 0.172938 \n",
      "| epoch 180 | iteration 10 / 10 | loss 0.173286 \n",
      "| epoch 181 | iteration 10 / 10 | loss 0.176538 \n",
      "| epoch 182 | iteration 10 / 10 | loss 0.172826 \n",
      "| epoch 183 | iteration 10 / 10 | loss 0.176269 \n",
      "| epoch 184 | iteration 10 / 10 | loss 0.174346 \n",
      "| epoch 185 | iteration 10 / 10 | loss 0.169491 \n",
      "| epoch 186 | iteration 10 / 10 | loss 0.177554 \n",
      "| epoch 187 | iteration 10 / 10 | loss 0.172857 \n",
      "| epoch 188 | iteration 10 / 10 | loss 0.166485 \n",
      "| epoch 189 | iteration 10 / 10 | loss 0.165942 \n",
      "| epoch 190 | iteration 10 / 10 | loss 0.169311 \n",
      "| epoch 191 | iteration 10 / 10 | loss 0.163011 \n",
      "| epoch 192 | iteration 10 / 10 | loss 0.169589 \n",
      "| epoch 193 | iteration 10 / 10 | loss 0.161907 \n",
      "| epoch 194 | iteration 10 / 10 | loss 0.159395 \n",
      "| epoch 195 | iteration 10 / 10 | loss 0.162860 \n",
      "| epoch 196 | iteration 10 / 10 | loss 0.161242 \n",
      "| epoch 197 | iteration 10 / 10 | loss 0.163649 \n",
      "| epoch 198 | iteration 10 / 10 | loss 0.152768 \n",
      "| epoch 199 | iteration 10 / 10 | loss 0.159703 \n",
      "| epoch 200 | iteration 10 / 10 | loss 0.157478 \n",
      "| epoch 201 | iteration 10 / 10 | loss 0.154677 \n",
      "| epoch 202 | iteration 10 / 10 | loss 0.156938 \n",
      "| epoch 203 | iteration 10 / 10 | loss 0.155477 \n",
      "| epoch 204 | iteration 10 / 10 | loss 0.153948 \n",
      "| epoch 205 | iteration 10 / 10 | loss 0.157584 \n",
      "| epoch 206 | iteration 10 / 10 | loss 0.153485 \n",
      "| epoch 207 | iteration 10 / 10 | loss 0.154463 \n",
      "| epoch 208 | iteration 10 / 10 | loss 0.147680 \n",
      "| epoch 209 | iteration 10 / 10 | loss 0.151415 \n",
      "| epoch 210 | iteration 10 / 10 | loss 0.149356 \n",
      "| epoch 211 | iteration 10 / 10 | loss 0.151705 \n",
      "| epoch 212 | iteration 10 / 10 | loss 0.147559 \n",
      "| epoch 213 | iteration 10 / 10 | loss 0.147851 \n",
      "| epoch 214 | iteration 10 / 10 | loss 0.145160 \n",
      "| epoch 215 | iteration 10 / 10 | loss 0.146784 \n",
      "| epoch 216 | iteration 10 / 10 | loss 0.143884 \n",
      "| epoch 217 | iteration 10 / 10 | loss 0.142598 \n",
      "| epoch 218 | iteration 10 / 10 | loss 0.145552 \n",
      "| epoch 219 | iteration 10 / 10 | loss 0.139224 \n",
      "| epoch 220 | iteration 10 / 10 | loss 0.137309 \n",
      "| epoch 221 | iteration 10 / 10 | loss 0.144106 \n",
      "| epoch 222 | iteration 10 / 10 | loss 0.140508 \n",
      "| epoch 223 | iteration 10 / 10 | loss 0.142250 \n",
      "| epoch 224 | iteration 10 / 10 | loss 0.142546 \n",
      "| epoch 225 | iteration 10 / 10 | loss 0.136672 \n",
      "| epoch 226 | iteration 10 / 10 | loss 0.136590 \n",
      "| epoch 227 | iteration 10 / 10 | loss 0.142517 \n",
      "| epoch 228 | iteration 10 / 10 | loss 0.136087 \n",
      "| epoch 229 | iteration 10 / 10 | loss 0.129100 \n",
      "| epoch 230 | iteration 10 / 10 | loss 0.138831 \n",
      "| epoch 231 | iteration 10 / 10 | loss 0.131423 \n",
      "| epoch 232 | iteration 10 / 10 | loss 0.135950 \n",
      "| epoch 233 | iteration 10 / 10 | loss 0.134293 \n",
      "| epoch 234 | iteration 10 / 10 | loss 0.131441 \n",
      "| epoch 235 | iteration 10 / 10 | loss 0.131483 \n",
      "| epoch 236 | iteration 10 / 10 | loss 0.128607 \n",
      "| epoch 237 | iteration 10 / 10 | loss 0.135392 \n",
      "| epoch 238 | iteration 10 / 10 | loss 0.132231 \n",
      "| epoch 239 | iteration 10 / 10 | loss 0.131346 \n",
      "| epoch 240 | iteration 10 / 10 | loss 0.137816 \n",
      "| epoch 241 | iteration 10 / 10 | loss 0.133673 \n",
      "| epoch 242 | iteration 10 / 10 | loss 0.128605 \n",
      "| epoch 243 | iteration 10 / 10 | loss 0.127750 \n",
      "| epoch 244 | iteration 10 / 10 | loss 0.130022 \n",
      "| epoch 245 | iteration 10 / 10 | loss 0.131460 \n",
      "| epoch 246 | iteration 10 / 10 | loss 0.127966 \n",
      "| epoch 247 | iteration 10 / 10 | loss 0.126434 \n",
      "| epoch 248 | iteration 10 / 10 | loss 0.132010 \n",
      "| epoch 249 | iteration 10 / 10 | loss 0.127790 \n",
      "| epoch 250 | iteration 10 / 10 | loss 0.130403 \n",
      "| epoch 251 | iteration 10 / 10 | loss 0.133485 \n",
      "| epoch 252 | iteration 10 / 10 | loss 0.124540 \n",
      "| epoch 253 | iteration 10 / 10 | loss 0.121327 \n",
      "| epoch 254 | iteration 10 / 10 | loss 0.122860 \n",
      "| epoch 255 | iteration 10 / 10 | loss 0.122670 \n",
      "| epoch 256 | iteration 10 / 10 | loss 0.123125 \n",
      "| epoch 257 | iteration 10 / 10 | loss 0.121278 \n",
      "| epoch 258 | iteration 10 / 10 | loss 0.124673 \n",
      "| epoch 259 | iteration 10 / 10 | loss 0.131957 \n",
      "| epoch 260 | iteration 10 / 10 | loss 0.120267 \n",
      "| epoch 261 | iteration 10 / 10 | loss 0.125003 \n",
      "| epoch 262 | iteration 10 / 10 | loss 0.120621 \n",
      "| epoch 263 | iteration 10 / 10 | loss 0.118108 \n",
      "| epoch 264 | iteration 10 / 10 | loss 0.126816 \n",
      "| epoch 265 | iteration 10 / 10 | loss 0.118074 \n",
      "| epoch 266 | iteration 10 / 10 | loss 0.120140 \n",
      "| epoch 267 | iteration 10 / 10 | loss 0.119930 \n",
      "| epoch 268 | iteration 10 / 10 | loss 0.117325 \n",
      "| epoch 269 | iteration 10 / 10 | loss 0.113605 \n",
      "| epoch 270 | iteration 10 / 10 | loss 0.118883 \n",
      "| epoch 271 | iteration 10 / 10 | loss 0.116335 \n",
      "| epoch 272 | iteration 10 / 10 | loss 0.118254 \n",
      "| epoch 273 | iteration 10 / 10 | loss 0.116237 \n",
      "| epoch 274 | iteration 10 / 10 | loss 0.123225 \n",
      "| epoch 275 | iteration 10 / 10 | loss 0.113263 \n",
      "| epoch 276 | iteration 10 / 10 | loss 0.115801 \n",
      "| epoch 277 | iteration 10 / 10 | loss 0.124185 \n",
      "| epoch 278 | iteration 10 / 10 | loss 0.112895 \n",
      "| epoch 279 | iteration 10 / 10 | loss 0.110776 \n",
      "| epoch 280 | iteration 10 / 10 | loss 0.114312 \n",
      "| epoch 281 | iteration 10 / 10 | loss 0.114274 \n",
      "| epoch 282 | iteration 10 / 10 | loss 0.117315 \n",
      "| epoch 283 | iteration 10 / 10 | loss 0.111740 \n",
      "| epoch 284 | iteration 10 / 10 | loss 0.113824 \n",
      "| epoch 285 | iteration 10 / 10 | loss 0.113546 \n",
      "| epoch 286 | iteration 10 / 10 | loss 0.110828 \n",
      "| epoch 287 | iteration 10 / 10 | loss 0.112356 \n",
      "| epoch 288 | iteration 10 / 10 | loss 0.116989 \n",
      "| epoch 289 | iteration 10 / 10 | loss 0.113948 \n",
      "| epoch 290 | iteration 10 / 10 | loss 0.114727 \n",
      "| epoch 291 | iteration 10 / 10 | loss 0.111952 \n",
      "| epoch 292 | iteration 10 / 10 | loss 0.112527 \n",
      "| epoch 293 | iteration 10 / 10 | loss 0.110190 \n",
      "| epoch 294 | iteration 10 / 10 | loss 0.111479 \n",
      "| epoch 295 | iteration 10 / 10 | loss 0.115783 \n",
      "| epoch 296 | iteration 10 / 10 | loss 0.110223 \n",
      "| epoch 297 | iteration 10 / 10 | loss 0.119668 \n",
      "| epoch 298 | iteration 10 / 10 | loss 0.111603 \n",
      "| epoch 299 | iteration 10 / 10 | loss 0.106687 \n",
      "| epoch 300 | iteration 10 / 10 | loss 0.108550 \n"
     ]
    }
   ],
   "source": [
    "%run train_custom_loop.py"
   ]
  },
  {
   "cell_type": "code",
   "execution_count": 10,
   "metadata": {},
   "outputs": [
    {
     "name": "stderr",
     "output_type": "stream",
     "text": [
      "/home/jsy/miniconda3/lib/python3.12/site-packages/IPython/core/pylabtools.py:152: UserWarning: Glyph 48152 (\\N{HANGUL SYLLABLE BAN}) missing from current font.\n",
      "  fig.canvas.print_figure(bytes_io, **kw)\n",
      "/home/jsy/miniconda3/lib/python3.12/site-packages/IPython/core/pylabtools.py:152: UserWarning: Glyph 48373 (\\N{HANGUL SYLLABLE BOG}) missing from current font.\n",
      "  fig.canvas.print_figure(bytes_io, **kw)\n",
      "/home/jsy/miniconda3/lib/python3.12/site-packages/IPython/core/pylabtools.py:152: UserWarning: Glyph 49552 (\\N{HANGUL SYLLABLE SON}) missing from current font.\n",
      "  fig.canvas.print_figure(bytes_io, **kw)\n",
      "/home/jsy/miniconda3/lib/python3.12/site-packages/IPython/core/pylabtools.py:152: UserWarning: Glyph 49892 (\\N{HANGUL SYLLABLE SIL}) missing from current font.\n",
      "  fig.canvas.print_figure(bytes_io, **kw)\n"
     ]
    },
    {
     "data": {
      "image/png": "[encoded data removed]",
      "text/plain": [
       "<Figure size 640x480 with 1 Axes>"
      ]
     },
     "metadata": {},
     "output_type": "display_data"
    }
   ],
   "source": [
    "plt.plot(np.arange(len(loss_list)), loss_list, label='train')\n",
    "plt.xlabel('반복 (x10)')\n",
    "plt.ylabel('손실')\n",
    "plt.show()"
   ]
  },
  {
   "cell_type": "code",
   "execution_count": 11,
   "metadata": {},
   "outputs": [
    {
     "data": {
      "text/plain": [
       "(-1.0223506996640548,\n",
       " 1.0886493003357127,\n",
       " -0.9886726617070215,\n",
       " 1.0573273382929806)"
      ]
     },
     "execution_count": 11,
     "metadata": {},
     "output_type": "execute_result"
    },
    {
     "data": {
      "image/png": "[encoded data removed]",
      "text/plain": [
       "<Figure size 640x480 with 1 Axes>"
      ]
     },
     "metadata": {},
     "output_type": "display_data"
    }
   ],
   "source": [
    "\n",
    "# 경계 영역 플롯\n",
    "h = 0.001\n",
    "x_min, x_max = x[:, 0].min() - .1, x[:, 0].max() + .1\n",
    "y_min, y_max = x[:, 1].min() - .1, x[:, 1].max() + .1\n",
    "xx, yy = np.meshgrid(np.arange(x_min, x_max, h), np.arange(y_min, y_max, h))\n",
    "X = np.c_[xx.ravel(), yy.ravel()]\n",
    "score = model.predict(X)\n",
    "predict_cls = np.argmax(score, axis=1)\n",
    "Z = predict_cls.reshape(xx.shape)\n",
    "plt.contourf(xx, yy, Z)\n",
    "plt.axis('off')"
   ]
  },
  {
   "cell_type": "code",
   "execution_count": 13,
   "metadata": {},
   "outputs": [
    {
     "data": {
      "image/png": "[encoded data removed]",
      "text/plain": [
       "<Figure size 640x480 with 1 Axes>"
      ]
     },
     "metadata": {},
     "output_type": "display_data"
    }
   ],
   "source": [
    "h = 0.001\n",
    "x_min, x_max = x[:, 0].min() - .1, x[:, 0].max() + .1\n",
    "y_min, y_max = x[:, 1].min() - .1, x[:, 1].max() + .1\n",
    "xx, yy = np.meshgrid(np.arange(x_min, x_max, h), np.arange(y_min, y_max, h))\n",
    "X = np.c_[xx.ravel(), yy.ravel()]\n",
    "score = model.predict(X)\n",
    "predict_cls = np.argmax(score, axis=1)\n",
    "Z = predict_cls.reshape(xx.shape)\n",
    "plt.contourf(xx, yy, Z)\n",
    "plt.axis('off')\n",
    "# 데이터점 플롯\n",
    "x, t = spiral.load_data()\n",
    "N = 100\n",
    "CLS_NUM = 3\n",
    "markers = ['o', 'x', '^']\n",
    "for i in range(CLS_NUM):\n",
    "    plt.scatter(x[i*N:(i+1)*N, 0], x[i*N:(i+1)*N, 1], s=40, marker=markers[i])\n",
    "plt.show()"
   ]
  },
  {
   "cell_type": "markdown",
   "metadata": {},
   "source": [
    "### 1.4.4. Trainer Class\n",
    "common/trainer.py 에 있다.\\\n",
    "이 클래스를 앞으로 종종 쓸 것이다.\\\n",
    "초기화 매서드로 신경망과 옵티마이저를 인수로 받는다.\\\n",
    "fit()로 학습\\\n",
    "x : input, t: answer, max_epoch(=10), batch_size(=32), \\\n",
    "eval_interval(=20): 결과를 출력하는 간격, max_grad(=None): max norm"
   ]
  },
  {
   "cell_type": "code",
   "execution_count": 14,
   "metadata": {},
   "outputs": [
    {
     "name": "stdout",
     "output_type": "stream",
     "text": [
      "| 에폭 1 |  반복 1 / 10 | 시간 0[s] | 손실 1.10\n",
      "| 에폭 2 |  반복 1 / 10 | 시간 0[s] | 손실 1.12\n",
      "| 에폭 3 |  반복 1 / 10 | 시간 0[s] | 손실 1.13\n",
      "| 에폭 4 |  반복 1 / 10 | 시간 0[s] | 손실 1.12\n",
      "| 에폭 5 |  반복 1 / 10 | 시간 0[s] | 손실 1.12\n",
      "| 에폭 6 |  반복 1 / 10 | 시간 0[s] | 손실 1.10\n",
      "| 에폭 7 |  반복 1 / 10 | 시간 0[s] | 손실 1.14\n",
      "| 에폭 8 |  반복 1 / 10 | 시간 0[s] | 손실 1.16\n",
      "| 에폭 9 |  반복 1 / 10 | 시간 0[s] | 손실 1.11\n",
      "| 에폭 10 |  반복 1 / 10 | 시간 0[s] | 손실 1.12\n",
      "| 에폭 11 |  반복 1 / 10 | 시간 0[s] | 손실 1.12\n",
      "| 에폭 12 |  반복 1 / 10 | 시간 0[s] | 손실 1.12\n",
      "| 에폭 13 |  반복 1 / 10 | 시간 0[s] | 손실 1.10\n",
      "| 에폭 14 |  반복 1 / 10 | 시간 0[s] | 손실 1.09\n",
      "| 에폭 15 |  반복 1 / 10 | 시간 0[s] | 손실 1.08\n",
      "| 에폭 16 |  반복 1 / 10 | 시간 0[s] | 손실 1.04\n",
      "| 에폭 17 |  반복 1 / 10 | 시간 0[s] | 손실 1.03\n",
      "| 에폭 18 |  반복 1 / 10 | 시간 0[s] | 손실 0.94\n",
      "| 에폭 19 |  반복 1 / 10 | 시간 0[s] | 손실 0.92\n",
      "| 에폭 20 |  반복 1 / 10 | 시간 0[s] | 손실 0.92\n",
      "| 에폭 21 |  반복 1 / 10 | 시간 0[s] | 손실 0.87\n",
      "| 에폭 22 |  반복 1 / 10 | 시간 0[s] | 손실 0.85\n",
      "| 에폭 23 |  반복 1 / 10 | 시간 0[s] | 손실 0.80\n",
      "| 에폭 24 |  반복 1 / 10 | 시간 0[s] | 손실 0.79\n",
      "| 에폭 25 |  반복 1 / 10 | 시간 0[s] | 손실 0.78\n",
      "| 에폭 26 |  반복 1 / 10 | 시간 0[s] | 손실 0.83\n",
      "| 에폭 27 |  반복 1 / 10 | 시간 0[s] | 손실 0.77\n",
      "| 에폭 28 |  반복 1 / 10 | 시간 0[s] | 손실 0.76\n",
      "| 에폭 29 |  반복 1 / 10 | 시간 0[s] | 손실 0.77\n",
      "| 에폭 30 |  반복 1 / 10 | 시간 0[s] | 손실 0.76\n",
      "| 에폭 31 |  반복 1 / 10 | 시간 0[s] | 손실 0.77\n",
      "| 에폭 32 |  반복 1 / 10 | 시간 0[s] | 손실 0.75\n",
      "| 에폭 33 |  반복 1 / 10 | 시간 0[s] | 손실 0.78\n",
      "| 에폭 34 |  반복 1 / 10 | 시간 0[s] | 손실 0.77\n",
      "| 에폭 35 |  반복 1 / 10 | 시간 0[s] | 손실 0.78\n",
      "| 에폭 36 |  반복 1 / 10 | 시간 0[s] | 손실 0.74\n",
      "| 에폭 37 |  반복 1 / 10 | 시간 0[s] | 손실 0.75\n",
      "| 에폭 38 |  반복 1 / 10 | 시간 0[s] | 손실 0.77\n",
      "| 에폭 39 |  반복 1 / 10 | 시간 0[s] | 손실 0.75\n",
      "| 에폭 40 |  반복 1 / 10 | 시간 0[s] | 손실 0.73\n",
      "| 에폭 41 |  반복 1 / 10 | 시간 0[s] | 손실 0.75\n",
      "| 에폭 42 |  반복 1 / 10 | 시간 0[s] | 손실 0.76\n",
      "| 에폭 43 |  반복 1 / 10 | 시간 0[s] | 손실 0.79\n",
      "| 에폭 44 |  반복 1 / 10 | 시간 0[s] | 손실 0.74\n",
      "| 에폭 45 |  반복 1 / 10 | 시간 0[s] | 손실 0.75\n",
      "| 에폭 46 |  반복 1 / 10 | 시간 0[s] | 손실 0.73\n",
      "| 에폭 47 |  반복 1 / 10 | 시간 0[s] | 손실 0.73\n",
      "| 에폭 48 |  반복 1 / 10 | 시간 0[s] | 손실 0.73\n",
      "| 에폭 49 |  반복 1 / 10 | 시간 0[s] | 손실 0.73\n",
      "| 에폭 50 |  반복 1 / 10 | 시간 0[s] | 손실 0.72\n",
      "| 에폭 51 |  반복 1 / 10 | 시간 0[s] | 손실 0.72\n",
      "| 에폭 52 |  반복 1 / 10 | 시간 0[s] | 손실 0.72\n",
      "| 에폭 53 |  반복 1 / 10 | 시간 0[s] | 손실 0.72\n",
      "| 에폭 54 |  반복 1 / 10 | 시간 0[s] | 손실 0.74\n",
      "| 에폭 55 |  반복 1 / 10 | 시간 0[s] | 손실 0.74\n",
      "| 에폭 56 |  반복 1 / 10 | 시간 0[s] | 손실 0.73\n",
      "| 에폭 57 |  반복 1 / 10 | 시간 0[s] | 손실 0.72\n",
      "| 에폭 58 |  반복 1 / 10 | 시간 0[s] | 손실 0.69\n",
      "| 에폭 59 |  반복 1 / 10 | 시간 0[s] | 손실 0.72\n",
      "| 에폭 60 |  반복 1 / 10 | 시간 0[s] | 손실 0.70\n",
      "| 에폭 61 |  반복 1 / 10 | 시간 0[s] | 손실 0.69\n",
      "| 에폭 62 |  반복 1 / 10 | 시간 0[s] | 손실 0.71\n",
      "| 에폭 63 |  반복 1 / 10 | 시간 0[s] | 손실 0.70\n",
      "| 에폭 64 |  반복 1 / 10 | 시간 0[s] | 손실 0.71\n",
      "| 에폭 65 |  반복 1 / 10 | 시간 0[s] | 손실 0.72\n",
      "| 에폭 66 |  반복 1 / 10 | 시간 0[s] | 손실 0.71\n",
      "| 에폭 67 |  반복 1 / 10 | 시간 0[s] | 손실 0.71\n",
      "| 에폭 68 |  반복 1 / 10 | 시간 0[s] | 손실 0.71\n",
      "| 에폭 69 |  반복 1 / 10 | 시간 0[s] | 손실 0.70\n",
      "| 에폭 70 |  반복 1 / 10 | 시간 0[s] | 손실 0.68\n",
      "| 에폭 71 |  반복 1 / 10 | 시간 0[s] | 손실 0.73\n",
      "| 에폭 72 |  반복 1 / 10 | 시간 0[s] | 손실 0.66\n",
      "| 에폭 73 |  반복 1 / 10 | 시간 0[s] | 손실 0.69\n",
      "| 에폭 74 |  반복 1 / 10 | 시간 0[s] | 손실 0.66\n",
      "| 에폭 75 |  반복 1 / 10 | 시간 0[s] | 손실 0.70\n",
      "| 에폭 76 |  반복 1 / 10 | 시간 0[s] | 손실 0.65\n",
      "| 에폭 77 |  반복 1 / 10 | 시간 0[s] | 손실 0.67\n",
      "| 에폭 78 |  반복 1 / 10 | 시간 0[s] | 손실 0.70\n",
      "| 에폭 79 |  반복 1 / 10 | 시간 0[s] | 손실 0.63\n",
      "| 에폭 80 |  반복 1 / 10 | 시간 0[s] | 손실 0.66\n",
      "| 에폭 81 |  반복 1 / 10 | 시간 0[s] | 손실 0.65\n",
      "| 에폭 82 |  반복 1 / 10 | 시간 0[s] | 손실 0.66\n",
      "| 에폭 83 |  반복 1 / 10 | 시간 0[s] | 손실 0.64\n",
      "| 에폭 84 |  반복 1 / 10 | 시간 0[s] | 손실 0.62\n",
      "| 에폭 85 |  반복 1 / 10 | 시간 0[s] | 손실 0.62\n",
      "| 에폭 86 |  반복 1 / 10 | 시간 0[s] | 손실 0.63\n",
      "| 에폭 87 |  반복 1 / 10 | 시간 0[s] | 손실 0.59\n",
      "| 에폭 88 |  반복 1 / 10 | 시간 0[s] | 손실 0.58\n",
      "| 에폭 89 |  반복 1 / 10 | 시간 0[s] | 손실 0.61\n",
      "| 에폭 90 |  반복 1 / 10 | 시간 0[s] | 손실 0.59\n",
      "| 에폭 91 |  반복 1 / 10 | 시간 0[s] | 손실 0.58\n",
      "| 에폭 92 |  반복 1 / 10 | 시간 0[s] | 손실 0.57\n",
      "| 에폭 93 |  반복 1 / 10 | 시간 0[s] | 손실 0.55\n",
      "| 에폭 94 |  반복 1 / 10 | 시간 0[s] | 손실 0.54\n",
      "| 에폭 95 |  반복 1 / 10 | 시간 0[s] | 손실 0.53\n",
      "| 에폭 96 |  반복 1 / 10 | 시간 0[s] | 손실 0.54\n",
      "| 에폭 97 |  반복 1 / 10 | 시간 0[s] | 손실 0.51\n",
      "| 에폭 98 |  반복 1 / 10 | 시간 0[s] | 손실 0.51\n",
      "| 에폭 99 |  반복 1 / 10 | 시간 0[s] | 손실 0.50\n",
      "| 에폭 100 |  반복 1 / 10 | 시간 0[s] | 손실 0.47\n",
      "| 에폭 101 |  반복 1 / 10 | 시간 0[s] | 손실 0.49\n",
      "| 에폭 102 |  반복 1 / 10 | 시간 0[s] | 손실 0.46\n",
      "| 에폭 103 |  반복 1 / 10 | 시간 0[s] | 손실 0.44\n",
      "| 에폭 104 |  반복 1 / 10 | 시간 0[s] | 손실 0.47\n",
      "| 에폭 105 |  반복 1 / 10 | 시간 0[s] | 손실 0.44\n",
      "| 에폭 106 |  반복 1 / 10 | 시간 0[s] | 손실 0.43\n",
      "| 에폭 107 |  반복 1 / 10 | 시간 0[s] | 손실 0.43\n",
      "| 에폭 108 |  반복 1 / 10 | 시간 0[s] | 손실 0.39\n",
      "| 에폭 109 |  반복 1 / 10 | 시간 0[s] | 손실 0.40\n",
      "| 에폭 110 |  반복 1 / 10 | 시간 0[s] | 손실 0.41\n",
      "| 에폭 111 |  반복 1 / 10 | 시간 0[s] | 손실 0.38\n",
      "| 에폭 112 |  반복 1 / 10 | 시간 0[s] | 손실 0.38\n",
      "| 에폭 113 |  반복 1 / 10 | 시간 0[s] | 손실 0.38\n",
      "| 에폭 114 |  반복 1 / 10 | 시간 0[s] | 손실 0.37\n",
      "| 에폭 115 |  반복 1 / 10 | 시간 0[s] | 손실 0.36\n",
      "| 에폭 116 |  반복 1 / 10 | 시간 0[s] | 손실 0.34\n",
      "| 에폭 117 |  반복 1 / 10 | 시간 0[s] | 손실 0.35\n",
      "| 에폭 118 |  반복 1 / 10 | 시간 0[s] | 손실 0.33\n",
      "| 에폭 119 |  반복 1 / 10 | 시간 0[s] | 손실 0.35\n",
      "| 에폭 120 |  반복 1 / 10 | 시간 0[s] | 손실 0.33\n",
      "| 에폭 121 |  반복 1 / 10 | 시간 0[s] | 손실 0.33\n",
      "| 에폭 122 |  반복 1 / 10 | 시간 0[s] | 손실 0.32\n",
      "| 에폭 123 |  반복 1 / 10 | 시간 0[s] | 손실 0.31\n",
      "| 에폭 124 |  반복 1 / 10 | 시간 0[s] | 손실 0.31\n",
      "| 에폭 125 |  반복 1 / 10 | 시간 0[s] | 손실 0.31\n",
      "| 에폭 126 |  반복 1 / 10 | 시간 0[s] | 손실 0.30\n",
      "| 에폭 127 |  반복 1 / 10 | 시간 0[s] | 손실 0.30\n",
      "| 에폭 128 |  반복 1 / 10 | 시간 0[s] | 손실 0.27\n",
      "| 에폭 129 |  반복 1 / 10 | 시간 0[s] | 손실 0.30\n",
      "| 에폭 130 |  반복 1 / 10 | 시간 0[s] | 손실 0.28\n",
      "| 에폭 131 |  반복 1 / 10 | 시간 0[s] | 손실 0.26\n",
      "| 에폭 132 |  반복 1 / 10 | 시간 0[s] | 손실 0.27\n",
      "| 에폭 133 |  반복 1 / 10 | 시간 0[s] | 손실 0.27\n",
      "| 에폭 134 |  반복 1 / 10 | 시간 0[s] | 손실 0.28\n",
      "| 에폭 135 |  반복 1 / 10 | 시간 0[s] | 손실 0.26\n",
      "| 에폭 136 |  반복 1 / 10 | 시간 0[s] | 손실 0.28\n",
      "| 에폭 137 |  반복 1 / 10 | 시간 0[s] | 손실 0.25\n",
      "| 에폭 138 |  반복 1 / 10 | 시간 0[s] | 손실 0.26\n",
      "| 에폭 139 |  반복 1 / 10 | 시간 0[s] | 손실 0.26\n",
      "| 에폭 140 |  반복 1 / 10 | 시간 0[s] | 손실 0.26\n",
      "| 에폭 141 |  반복 1 / 10 | 시간 0[s] | 손실 0.23\n",
      "| 에폭 142 |  반복 1 / 10 | 시간 0[s] | 손실 0.23\n",
      "| 에폭 143 |  반복 1 / 10 | 시간 0[s] | 손실 0.26\n",
      "| 에폭 144 |  반복 1 / 10 | 시간 0[s] | 손실 0.23\n",
      "| 에폭 145 |  반복 1 / 10 | 시간 0[s] | 손실 0.24\n",
      "| 에폭 146 |  반복 1 / 10 | 시간 0[s] | 손실 0.24\n",
      "| 에폭 147 |  반복 1 / 10 | 시간 0[s] | 손실 0.25\n",
      "| 에폭 148 |  반복 1 / 10 | 시간 0[s] | 손실 0.21\n",
      "| 에폭 149 |  반복 1 / 10 | 시간 0[s] | 손실 0.23\n",
      "| 에폭 150 |  반복 1 / 10 | 시간 0[s] | 손실 0.22\n",
      "| 에폭 151 |  반복 1 / 10 | 시간 0[s] | 손실 0.22\n",
      "| 에폭 152 |  반복 1 / 10 | 시간 0[s] | 손실 0.23\n",
      "| 에폭 153 |  반복 1 / 10 | 시간 0[s] | 손실 0.23\n",
      "| 에폭 154 |  반복 1 / 10 | 시간 0[s] | 손실 0.20\n",
      "| 에폭 155 |  반복 1 / 10 | 시간 0[s] | 손실 0.22\n",
      "| 에폭 156 |  반복 1 / 10 | 시간 0[s] | 손실 0.21\n",
      "| 에폭 157 |  반복 1 / 10 | 시간 0[s] | 손실 0.21\n",
      "| 에폭 158 |  반복 1 / 10 | 시간 0[s] | 손실 0.20\n",
      "| 에폭 159 |  반복 1 / 10 | 시간 0[s] | 손실 0.21\n",
      "| 에폭 160 |  반복 1 / 10 | 시간 0[s] | 손실 0.20\n",
      "| 에폭 161 |  반복 1 / 10 | 시간 0[s] | 손실 0.19\n",
      "| 에폭 162 |  반복 1 / 10 | 시간 0[s] | 손실 0.22\n",
      "| 에폭 163 |  반복 1 / 10 | 시간 0[s] | 손실 0.19\n",
      "| 에폭 164 |  반복 1 / 10 | 시간 0[s] | 손실 0.21\n",
      "| 에폭 165 |  반복 1 / 10 | 시간 0[s] | 손실 0.20\n",
      "| 에폭 166 |  반복 1 / 10 | 시간 0[s] | 손실 0.20\n",
      "| 에폭 167 |  반복 1 / 10 | 시간 0[s] | 손실 0.20\n",
      "| 에폭 168 |  반복 1 / 10 | 시간 0[s] | 손실 0.19\n",
      "| 에폭 169 |  반복 1 / 10 | 시간 0[s] | 손실 0.18\n",
      "| 에폭 170 |  반복 1 / 10 | 시간 0[s] | 손실 0.19\n",
      "| 에폭 171 |  반복 1 / 10 | 시간 0[s] | 손실 0.19\n",
      "| 에폭 172 |  반복 1 / 10 | 시간 0[s] | 손실 0.20\n",
      "| 에폭 173 |  반복 1 / 10 | 시간 0[s] | 손실 0.16\n",
      "| 에폭 174 |  반복 1 / 10 | 시간 0[s] | 손실 0.20\n",
      "| 에폭 175 |  반복 1 / 10 | 시간 0[s] | 손실 0.18\n",
      "| 에폭 176 |  반복 1 / 10 | 시간 0[s] | 손실 0.17\n",
      "| 에폭 177 |  반복 1 / 10 | 시간 0[s] | 손실 0.17\n",
      "| 에폭 178 |  반복 1 / 10 | 시간 0[s] | 손실 0.17\n",
      "| 에폭 179 |  반복 1 / 10 | 시간 0[s] | 손실 0.18\n",
      "| 에폭 180 |  반복 1 / 10 | 시간 0[s] | 손실 0.19\n",
      "| 에폭 181 |  반복 1 / 10 | 시간 0[s] | 손실 0.17\n",
      "| 에폭 182 |  반복 1 / 10 | 시간 0[s] | 손실 0.18\n",
      "| 에폭 183 |  반복 1 / 10 | 시간 0[s] | 손실 0.16\n",
      "| 에폭 184 |  반복 1 / 10 | 시간 0[s] | 손실 0.18\n",
      "| 에폭 185 |  반복 1 / 10 | 시간 0[s] | 손실 0.18\n",
      "| 에폭 186 |  반복 1 / 10 | 시간 0[s] | 손실 0.17\n",
      "| 에폭 187 |  반복 1 / 10 | 시간 0[s] | 손실 0.17\n",
      "| 에폭 188 |  반복 1 / 10 | 시간 0[s] | 손실 0.18\n",
      "| 에폭 189 |  반복 1 / 10 | 시간 0[s] | 손실 0.16\n",
      "| 에폭 190 |  반복 1 / 10 | 시간 0[s] | 손실 0.16\n",
      "| 에폭 191 |  반복 1 / 10 | 시간 0[s] | 손실 0.17\n",
      "| 에폭 192 |  반복 1 / 10 | 시간 0[s] | 손실 0.17\n",
      "| 에폭 193 |  반복 1 / 10 | 시간 0[s] | 손실 0.16\n",
      "| 에폭 194 |  반복 1 / 10 | 시간 0[s] | 손실 0.16\n",
      "| 에폭 195 |  반복 1 / 10 | 시간 0[s] | 손실 0.16\n",
      "| 에폭 196 |  반복 1 / 10 | 시간 0[s] | 손실 0.17\n",
      "| 에폭 197 |  반복 1 / 10 | 시간 0[s] | 손실 0.16\n",
      "| 에폭 198 |  반복 1 / 10 | 시간 0[s] | 손실 0.17\n",
      "| 에폭 199 |  반복 1 / 10 | 시간 0[s] | 손실 0.16\n",
      "| 에폭 200 |  반복 1 / 10 | 시간 0[s] | 손실 0.14\n",
      "| 에폭 201 |  반복 1 / 10 | 시간 0[s] | 손실 0.16\n",
      "| 에폭 202 |  반복 1 / 10 | 시간 0[s] | 손실 0.16\n",
      "| 에폭 203 |  반복 1 / 10 | 시간 0[s] | 손실 0.15\n",
      "| 에폭 204 |  반복 1 / 10 | 시간 0[s] | 손실 0.16\n",
      "| 에폭 205 |  반복 1 / 10 | 시간 0[s] | 손실 0.14\n",
      "| 에폭 206 |  반복 1 / 10 | 시간 0[s] | 손실 0.16\n",
      "| 에폭 207 |  반복 1 / 10 | 시간 0[s] | 손실 0.16\n",
      "| 에폭 208 |  반복 1 / 10 | 시간 0[s] | 손실 0.14\n",
      "| 에폭 209 |  반복 1 / 10 | 시간 0[s] | 손실 0.15\n",
      "| 에폭 210 |  반복 1 / 10 | 시간 0[s] | 손실 0.16\n",
      "| 에폭 211 |  반복 1 / 10 | 시간 0[s] | 손실 0.14\n",
      "| 에폭 212 |  반복 1 / 10 | 시간 0[s] | 손실 0.15\n",
      "| 에폭 213 |  반복 1 / 10 | 시간 0[s] | 손실 0.15\n",
      "| 에폭 214 |  반복 1 / 10 | 시간 0[s] | 손실 0.15\n",
      "| 에폭 215 |  반복 1 / 10 | 시간 0[s] | 손실 0.14\n",
      "| 에폭 216 |  반복 1 / 10 | 시간 0[s] | 손실 0.14\n",
      "| 에폭 217 |  반복 1 / 10 | 시간 0[s] | 손실 0.15\n",
      "| 에폭 218 |  반복 1 / 10 | 시간 0[s] | 손실 0.14\n",
      "| 에폭 219 |  반복 1 / 10 | 시간 0[s] | 손실 0.15\n",
      "| 에폭 220 |  반복 1 / 10 | 시간 0[s] | 손실 0.15\n",
      "| 에폭 221 |  반복 1 / 10 | 시간 0[s] | 손실 0.14\n",
      "| 에폭 222 |  반복 1 / 10 | 시간 0[s] | 손실 0.13\n",
      "| 에폭 223 |  반복 1 / 10 | 시간 0[s] | 손실 0.15\n",
      "| 에폭 224 |  반복 1 / 10 | 시간 0[s] | 손실 0.14\n",
      "| 에폭 225 |  반복 1 / 10 | 시간 0[s] | 손실 0.16\n",
      "| 에폭 226 |  반복 1 / 10 | 시간 0[s] | 손실 0.12\n",
      "| 에폭 227 |  반복 1 / 10 | 시간 0[s] | 손실 0.13\n",
      "| 에폭 228 |  반복 1 / 10 | 시간 0[s] | 손실 0.15\n",
      "| 에폭 229 |  반복 1 / 10 | 시간 0[s] | 손실 0.14\n",
      "| 에폭 230 |  반복 1 / 10 | 시간 0[s] | 손실 0.13\n",
      "| 에폭 231 |  반복 1 / 10 | 시간 0[s] | 손실 0.14\n",
      "| 에폭 232 |  반복 1 / 10 | 시간 0[s] | 손실 0.13\n",
      "| 에폭 233 |  반복 1 / 10 | 시간 0[s] | 손실 0.13\n",
      "| 에폭 234 |  반복 1 / 10 | 시간 0[s] | 손실 0.14\n",
      "| 에폭 235 |  반복 1 / 10 | 시간 0[s] | 손실 0.13\n",
      "| 에폭 236 |  반복 1 / 10 | 시간 0[s] | 손실 0.12\n",
      "| 에폭 237 |  반복 1 / 10 | 시간 0[s] | 손실 0.13\n",
      "| 에폭 238 |  반복 1 / 10 | 시간 0[s] | 손실 0.14\n",
      "| 에폭 239 |  반복 1 / 10 | 시간 0[s] | 손실 0.14\n",
      "| 에폭 240 |  반복 1 / 10 | 시간 0[s] | 손실 0.13\n",
      "| 에폭 241 |  반복 1 / 10 | 시간 0[s] | 손실 0.14\n",
      "| 에폭 242 |  반복 1 / 10 | 시간 0[s] | 손실 0.13\n",
      "| 에폭 243 |  반복 1 / 10 | 시간 0[s] | 손실 0.13\n",
      "| 에폭 244 |  반복 1 / 10 | 시간 0[s] | 손실 0.14\n",
      "| 에폭 245 |  반복 1 / 10 | 시간 0[s] | 손실 0.12\n",
      "| 에폭 246 |  반복 1 / 10 | 시간 0[s] | 손실 0.13\n",
      "| 에폭 247 |  반복 1 / 10 | 시간 0[s] | 손실 0.13\n",
      "| 에폭 248 |  반복 1 / 10 | 시간 0[s] | 손실 0.12\n",
      "| 에폭 249 |  반복 1 / 10 | 시간 0[s] | 손실 0.14\n",
      "| 에폭 250 |  반복 1 / 10 | 시간 0[s] | 손실 0.12\n",
      "| 에폭 251 |  반복 1 / 10 | 시간 0[s] | 손실 0.13\n",
      "| 에폭 252 |  반복 1 / 10 | 시간 0[s] | 손실 0.13\n",
      "| 에폭 253 |  반복 1 / 10 | 시간 0[s] | 손실 0.12\n",
      "| 에폭 254 |  반복 1 / 10 | 시간 0[s] | 손실 0.12\n",
      "| 에폭 255 |  반복 1 / 10 | 시간 0[s] | 손실 0.13\n",
      "| 에폭 256 |  반복 1 / 10 | 시간 0[s] | 손실 0.12\n",
      "| 에폭 257 |  반복 1 / 10 | 시간 0[s] | 손실 0.12\n",
      "| 에폭 258 |  반복 1 / 10 | 시간 0[s] | 손실 0.12\n",
      "| 에폭 259 |  반복 1 / 10 | 시간 0[s] | 손실 0.13\n",
      "| 에폭 260 |  반복 1 / 10 | 시간 0[s] | 손실 0.13\n",
      "| 에폭 261 |  반복 1 / 10 | 시간 0[s] | 손실 0.11\n",
      "| 에폭 262 |  반복 1 / 10 | 시간 0[s] | 손실 0.13\n",
      "| 에폭 263 |  반복 1 / 10 | 시간 0[s] | 손실 0.12\n",
      "| 에폭 264 |  반복 1 / 10 | 시간 0[s] | 손실 0.11\n",
      "| 에폭 265 |  반복 1 / 10 | 시간 0[s] | 손실 0.14\n",
      "| 에폭 266 |  반복 1 / 10 | 시간 0[s] | 손실 0.11\n",
      "| 에폭 267 |  반복 1 / 10 | 시간 0[s] | 손실 0.13\n",
      "| 에폭 268 |  반복 1 / 10 | 시간 0[s] | 손실 0.11\n",
      "| 에폭 269 |  반복 1 / 10 | 시간 0[s] | 손실 0.13\n",
      "| 에폭 270 |  반복 1 / 10 | 시간 0[s] | 손실 0.11\n",
      "| 에폭 271 |  반복 1 / 10 | 시간 0[s] | 손실 0.12\n",
      "| 에폭 272 |  반복 1 / 10 | 시간 0[s] | 손실 0.12\n",
      "| 에폭 273 |  반복 1 / 10 | 시간 0[s] | 손실 0.12\n",
      "| 에폭 274 |  반복 1 / 10 | 시간 0[s] | 손실 0.12\n",
      "| 에폭 275 |  반복 1 / 10 | 시간 0[s] | 손실 0.12\n",
      "| 에폭 276 |  반복 1 / 10 | 시간 0[s] | 손실 0.12\n",
      "| 에폭 277 |  반복 1 / 10 | 시간 0[s] | 손실 0.11\n",
      "| 에폭 278 |  반복 1 / 10 | 시간 0[s] | 손실 0.13\n",
      "| 에폭 279 |  반복 1 / 10 | 시간 0[s] | 손실 0.11\n",
      "| 에폭 280 |  반복 1 / 10 | 시간 0[s] | 손실 0.10\n",
      "| 에폭 281 |  반복 1 / 10 | 시간 0[s] | 손실 0.12\n",
      "| 에폭 282 |  반복 1 / 10 | 시간 0[s] | 손실 0.11\n",
      "| 에폭 283 |  반복 1 / 10 | 시간 0[s] | 손실 0.12\n",
      "| 에폭 284 |  반복 1 / 10 | 시간 0[s] | 손실 0.11\n",
      "| 에폭 285 |  반복 1 / 10 | 시간 0[s] | 손실 0.11\n",
      "| 에폭 286 |  반복 1 / 10 | 시간 0[s] | 손실 0.12\n",
      "| 에폭 287 |  반복 1 / 10 | 시간 0[s] | 손실 0.11\n",
      "| 에폭 288 |  반복 1 / 10 | 시간 0[s] | 손실 0.11\n",
      "| 에폭 289 |  반복 1 / 10 | 시간 0[s] | 손실 0.12\n",
      "| 에폭 290 |  반복 1 / 10 | 시간 0[s] | 손실 0.11\n",
      "| 에폭 291 |  반복 1 / 10 | 시간 0[s] | 손실 0.11\n",
      "| 에폭 292 |  반복 1 / 10 | 시간 0[s] | 손실 0.11\n",
      "| 에폭 293 |  반복 1 / 10 | 시간 0[s] | 손실 0.11\n",
      "| 에폭 294 |  반복 1 / 10 | 시간 0[s] | 손실 0.11\n",
      "| 에폭 295 |  반복 1 / 10 | 시간 0[s] | 손실 0.11\n",
      "| 에폭 296 |  반복 1 / 10 | 시간 0[s] | 손실 0.12\n",
      "| 에폭 297 |  반복 1 / 10 | 시간 0[s] | 손실 0.11\n",
      "| 에폭 298 |  반복 1 / 10 | 시간 0[s] | 손실 0.11\n",
      "| 에폭 299 |  반복 1 / 10 | 시간 0[s] | 손실 0.11\n",
      "| 에폭 300 |  반복 1 / 10 | 시간 0[s] | 손실 0.11\n"
     ]
    },
    {
     "name": "stderr",
     "output_type": "stream",
     "text": [
      "/home/jsy/miniconda3/lib/python3.12/site-packages/IPython/core/pylabtools.py:152: UserWarning: Glyph 48152 (\\N{HANGUL SYLLABLE BAN}) missing from current font.\n",
      "  fig.canvas.print_figure(bytes_io, **kw)\n",
      "/home/jsy/miniconda3/lib/python3.12/site-packages/IPython/core/pylabtools.py:152: UserWarning: Glyph 48373 (\\N{HANGUL SYLLABLE BOG}) missing from current font.\n",
      "  fig.canvas.print_figure(bytes_io, **kw)\n",
      "/home/jsy/miniconda3/lib/python3.12/site-packages/IPython/core/pylabtools.py:152: UserWarning: Glyph 49552 (\\N{HANGUL SYLLABLE SON}) missing from current font.\n",
      "  fig.canvas.print_figure(bytes_io, **kw)\n",
      "/home/jsy/miniconda3/lib/python3.12/site-packages/IPython/core/pylabtools.py:152: UserWarning: Glyph 49892 (\\N{HANGUL SYLLABLE SIL}) missing from current font.\n",
      "  fig.canvas.print_figure(bytes_io, **kw)\n"
     ]
    },
    {
     "data": {
      "image/png": "[encoded data removed]",
      "text/plain": [
       "<Figure size 640x480 with 1 Axes>"
      ]
     },
     "metadata": {},
     "output_type": "display_data"
    }
   ],
   "source": [
    "import sys \n",
    "sys.path.append('DeepLearningFromScratch2')\n",
    "from common.optimizer import SGD\n",
    "from common.trainer import Trainer\n",
    "from dataset import spiral\n",
    "from two_layer_net import TwoLayerNet\n",
    "\n",
    "max_epoch = 300\n",
    "batch_size = 30\n",
    "hidden_size = 10\n",
    "learning_rate = 1.0\n",
    "\n",
    "x, t = spiral.load_data()\n",
    "model = TwoLayerNet(input_size=2, hidden_size=hidden_size, output_size=3)\n",
    "optimizer = SGD(lr=learning_rate)\n",
    "\n",
    "trainer = Trainer(model, optimizer)\n",
    "trainer.fit(x, t, max_epoch, batch_size, eval_interval= 10)\n",
    "trainer.plot()"
   ]
  },
  {
   "cell_type": "markdown",
   "metadata": {},
   "source": [
    "## 1.5 계산 고속화\n",
    "'비트 정밀도'와 'GPU'에 대해서 다뤄본다."
   ]
  },
  {
   "cell_type": "markdown",
   "metadata": {},
   "source": [
    "### 1.5.1 비트 정밀도"
   ]
  },
  {
   "cell_type": "code",
   "execution_count": 15,
   "metadata": {},
   "outputs": [
    {
     "data": {
      "text/plain": [
       "array([-0.62770321,  1.0043732 , -0.98858318])"
      ]
     },
     "execution_count": 15,
     "metadata": {},
     "output_type": "execute_result"
    }
   ],
   "source": [
    "import numpy as np\n",
    "a = np.random.randn(3)\n",
    "a"
   ]
  },
  {
   "cell_type": "code",
   "execution_count": 16,
   "metadata": {},
   "outputs": [
    {
     "data": {
      "text/plain": [
       "dtype('float64')"
      ]
     },
     "execution_count": 16,
     "metadata": {},
     "output_type": "execute_result"
    }
   ],
   "source": [
    "a.dtype"
   ]
  },
  {
   "cell_type": "code",
   "execution_count": 19,
   "metadata": {},
   "outputs": [
    {
     "name": "stdout",
     "output_type": "stream",
     "text": [
      "[0.6399222 1.2745773 1.0478756]\n"
     ]
    },
    {
     "data": {
      "text/plain": [
       "dtype('float32')"
      ]
     },
     "execution_count": 19,
     "metadata": {},
     "output_type": "execute_result"
    }
   ],
   "source": [
    "b = np.random.randn(3).astype(np.float32)\n",
    "print(b)\n",
    "b.dtype"
   ]
  },
  {
   "cell_type": "code",
   "execution_count": 20,
   "metadata": {},
   "outputs": [
    {
     "name": "stdout",
     "output_type": "stream",
     "text": [
      "[1.5303509 1.7257342 1.0808573]\n"
     ]
    },
    {
     "data": {
      "text/plain": [
       "dtype('float32')"
      ]
     },
     "execution_count": 20,
     "metadata": {},
     "output_type": "execute_result"
    }
   ],
   "source": [
    "c = np.random.randn(3).astype('f')\n",
    "print(c)\n",
    "c.dtype"
   ]
  },
  {
   "cell_type": "markdown",
   "metadata": {},
   "source": [
    "astype('f')나 astype(np.float32)를 쓰면 된다. 신경망은 적은 정밀도로 계산해도 괜찮다."
   ]
  },
  {
   "cell_type": "markdown",
   "metadata": {},
   "source": [
    "### 1.5.2 GPU(CUPY)\n",
    "엔비디아의 gpu에서만 쓸 수 있다.\\"
   ]
  },
  {
   "cell_type": "code",
   "execution_count": 1,
   "metadata": {},
   "outputs": [],
   "source": [
    "import cupy as cp "
   ]
  }
 ],
 "metadata": {
  "kernelspec": {
   "display_name": "base",
   "language": "python",
   "name": "python3"
  },
  "language_info": {
   "codemirror_mode": {
    "name": "ipython",
    "version": 3
   },
   "file_extension": ".py",
   "mimetype": "text/x-python",
   "name": "python",
   "nbconvert_exporter": "python",
   "pygments_lexer": "ipython3",
   "version": "3.10.13"
  }
 },
 "nbformat": 4,
 "nbformat_minor": 2
}
