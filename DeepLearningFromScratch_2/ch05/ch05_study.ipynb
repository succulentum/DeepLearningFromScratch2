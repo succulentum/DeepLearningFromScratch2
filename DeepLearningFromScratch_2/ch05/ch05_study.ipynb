{
 "cells": [
  {
   "cell_type": "markdown",
   "metadata": {},
   "source": [
    "# chapter05. RNN (Recurrent Neural Network)\n",
    "former model was 'feedforward' model. it sends information in one direction.  \n",
    "its easy to understand, but it has hard time learning pattern in time.  \n",
    "we deconstruct feedforward model, and we suggest and implement RNN model."
   ]
  },
  {
   "cell_type": "markdown",
   "metadata": {},
   "source": [
    "## 5.1 probability and language model\n",
    "### 5.1.1 word2vec in peobability perspective.\n",
    "P(w| w+, w-) is our model.  \n",
    "but lets consider P(w| w-1, w-2)  \n",
    "then L = -log(P(w| w-1, w-2 ))"
   ]
  },
  {
   "cell_type": "markdown",
   "metadata": {},
   "source": [
    "### 5.1.2 language model\n",
    "language model gives probability to sequence of words.  \n",
    " > P(A,B) = P(A|B) * P(B)  \n",
    "P(w1, w2, ... wm) = PI{P(wt| w1, ... wt-1)}  \n",
    "  \n",
    "language model considers many words before wt"
   ]
  },
  {
   "cell_type": "markdown",
   "metadata": {},
   "source": [
    "### 5.1.3 CBOW model into Language model\n",
    "we can make such model, but it has one problem: our size of window is restricted.  \n",
    "even if we managed to expand our window, the sequence is neglected.  \n",
    "solution requires completely new model: RNN  \n",
    "RNN preserves context no matter how long is the context.  "
   ]
  },
  {
   "cell_type": "markdown",
   "metadata": {},
   "source": [
    "## 5.2 RNN(Recurrent Neural Network)\n",
    "### 5.2.1 Recurrent \n",
    "in order to have Recurrence, we need \"closed path\". so we can repeat them.  \n",
    "### 5.2.2 Expanding Recurring structure\n",
    "we can expand RNN horizontally.  \n",
    "multiple RNN is identical.  \n",
    "basic formular of RNN : h_t = tanh(h_t-1 * W_h + x * W_x + b)  \n",
    "  \n",
    "RNN has two weight.  \n",
    "1. W_x: weight to convert x into h\n",
    "2. W_h: weight to make input for next RNN"
   ]
  },
  {
   "cell_type": "markdown",
   "metadata": {},
   "source": [
    "### BPTT(BackPropagation Through Time)\n",
    "BackPropagation part is similar with neural network.  \n",
    "problem 1: as RNN gets longer, backpropagation gets heavier.  \n",
    "problem 2: as RNN gets longer, gradient from backpropagation gets unstable."
   ]
  },
  {
   "cell_type": "markdown",
   "metadata": {},
   "source": [
    "### 5.2.4 Truncated BPTT\n",
    "we save context in forward propagation.  \n",
    "we cut our backpropagation, lets say in unit of 10 words.  "
   ]
  },
  {
   "cell_type": "markdown",
   "metadata": {},
   "source": [
    "### 5.2.5 Truncated BPTT's minibatch training \n",
    "Truncated BPTT is simple, but be careful when you feed an input.  \n",
    "if you have 1000 words, and you make batch size of 500, second batch will start from 500.  "
   ]
  },
  {
   "cell_type": "markdown",
   "metadata": {},
   "source": [
    "## 5.3 Implementing RNN\n",
    "we get input size of T.  \n",
    "we can think this whole RNN into one layer. input as xs, and output as hs.  \n",
    "we call this big layer \"Time RNN\""
   ]
  },
  {
   "cell_type": "markdown",
   "metadata": {},
   "source": [
    "### 5.3.1 RNN layer Implementing \n",
    "be careful for deminsion compatibility.  \n",
    "minibatch size: N  \n",
    "input vector size: D  \n",
    "hidden vector size: H  "
   ]
  },
  {
   "cell_type": "code",
   "execution_count": 1,
   "metadata": {},
   "outputs": [],
   "source": [
    "import numpy as np"
   ]
  },
  {
   "cell_type": "code",
   "execution_count": 2,
   "metadata": {},
   "outputs": [],
   "source": [
    "# common/time_layers.py\n",
    "class RNN: \n",
    "    def __init__(self, Wx, Wh, b):\n",
    "        self.params = [Wx, Wh, b]\n",
    "        self.grads = [np.zeros_like(Wx), np.zeros_like(Wh), np.zeros_like(b)]\n",
    "        self.cache = None\n",
    "        \n",
    "    def forward(self, x, h_prev):\n",
    "        Wx, Wh, b = self.params\n",
    "        t = np.matmul(h_prev, Wh) + np.matmul(x, Wx)+ b\n",
    "        h_next = np.tanh(t)\n",
    "    \n",
    "        self.cache(x, h_prev, h_next)\n",
    "        return h_next\n",
    "    \n",
    "    def backward(self, dh_next):\n",
    "        Wx, Wh, b = self.params\n",
    "        x, h_prev, h_next = self.cache\n",
    "        \n",
    "        dt = dh_next * (1 - h_next ** 2)\n",
    "        db = np,sum(dt, axix = 0)\n",
    "        dWh = np.matmul(h_prev.T, dt) # Q: what is T??\n",
    "        dh_prev = np.matmul(dt, Wh.T)\n",
    "        dWx = np.matmul(x.T, dt)\n",
    "        dx = np.matmul(dt, Wx.T)\n",
    "        \n",
    "        self.grads[0][...] = dWx\n",
    "        self.grads[1][...] = dWh\n",
    "        self.grads[2][...] = db\n",
    "        \n",
    "        return dx, dh_prev\n",
    "    "
   ]
  },
  {
   "cell_type": "markdown",
   "metadata": {},
   "source": [
    "### 5.3.2 Time RNN layer Implementation"
   ]
  },
  {
   "cell_type": "code",
   "execution_count": 4,
   "metadata": {},
   "outputs": [],
   "source": [
    "#common/time_layers.py\n",
    "class TimeRNN:\n",
    "    def __init__(self, Wx, Wh, b, stateful = False):\n",
    "        self.params = [Wx, Wh, b]\n",
    "        self.grads = [np.zeros_like(Wx), np.zeros_like(Wh), np.zeros_like(b)]\n",
    "        self.layers = None\n",
    "        \n",
    "        self.h, self.dh = None, None # 은닉변수들\n",
    "        self.stateful = stateful # True -> TimeRNN does not truncate. False -> it makes hidden variable into 0. \n",
    "        \n",
    "    def set_stateful(self, h):\n",
    "        self.h = h\n",
    "        \n",
    "    def reset_state(self):\n",
    "        self.h = None\n",
    "        \n",
    "    def forward(self, xs):\n",
    "        Wx, Wh, b = self.params\n",
    "        N, T, D = xs.shape\n",
    "        D, H = Wx.shape\n",
    "        \n",
    "        self.layers = []\n",
    "        hs = np.empty((N, T, H), dtype='f')\n",
    "        \n",
    "        if not self.stateful or self.h is None:\n",
    "            self.h = np.zeros((N, H), dtype='f')\n",
    "        \n",
    "        for t in range (T):\n",
    "            layer = RNN(*self.params)       # '*' in here extract elements from list and put them in parameter of method.  \n",
    "            self.h = layer.forward(xs[:, t, :], self.h)\n",
    "            hs[:, t, :] = self.h\n",
    "            self.layers.append(layer)\n",
    "            \n",
    "        return hs\n",
    "    \n",
    "    \n",
    "    def backward(self, dhs):\n",
    "        Wx, Wh, b = self.params\n",
    "        N, T, D = dhs.shape\n",
    "        D, H = Wx.shape\n",
    "        \n",
    "        dxs = np.empty((N, T, D), dtype='f')\n",
    "        dh = 0\n",
    "        grads = [0,0,0]\n",
    "        for t in reversed(range(T)): \n",
    "            layer = self.layers[t]\n",
    "            dx, dh = layer.backward(dhs[:,t,:] + dh ) # summed grads\n",
    "            dxs[:, t, :] = dx\n",
    "            \n",
    "            for i, grads in enumerate(layer.grads):\n",
    "                grads[i] += grad\n",
    "                \n",
    "            for i, grad in enumerate(grads):\n",
    "                self.grads[i][...] = grad\n",
    "            self.dh = dh\n",
    "            \n",
    "            return dxs\n",
    "            "
   ]
  },
  {
   "cell_type": "markdown",
   "metadata": {},
   "source": [
    "## 5.4 time series data layer implementation\n",
    "we will make RNNLM"
   ]
  },
  {
   "cell_type": "markdown",
   "metadata": {},
   "source": [
    "### 5.4.1 RNNLM\n",
    "we have 4 layers.\n",
    "1. Embedding layer: converts wordid into vector. \n",
    "2. RNN\n",
    "3. Affine\n",
    "4. Softmax: finally outputs yt"
   ]
  },
  {
   "cell_type": "markdown",
   "metadata": {},
   "source": [
    "### 5.4.2 Time layer\n",
    "we will make TimeXX layer.  \n",
    "XX layer that processes T amounts of Time series data.  \n",
    "its in the common/time_layers.py"
   ]
  },
  {
   "cell_type": "markdown",
   "metadata": {},
   "source": [
    "## 5.5 Training amd Evaluating RNNLM"
   ]
  },
  {
   "cell_type": "markdown",
   "metadata": {},
   "source": [
    "### 5.5.1 implementing RNNLM\n",
    "we will make simple class SimpleRnnlm"
   ]
  },
  {
   "cell_type": "markdown",
   "metadata": {},
   "source": [
    "its in the ch05/simple_rnnlm.py"
   ]
  },
  {
   "cell_type": "markdown",
   "metadata": {},
   "source": [
    "### 5.5.2 evaluating language model\n",
    "perplexity(혼란도): inverse of probability.  \n",
    "we want smaller perplexity.  \n",
    "we can think perplexity as number of branches.  \n",
    "if perp(x) = 1.25, there are 1.25 amount of possible words.  \n",
    "if perp(x) = 10, there are around 10 possible branches of words.  \n",
    "  \n",
    "but what if we want to evaluate multiple inputs?  \n",
    "L = -(1/N) * SUM{ SUM{ t_nk * log(y_nk) }}  \n",
    "perplexity = exp(L)"
   ]
  },
  {
   "cell_type": "markdown",
   "metadata": {},
   "source": [
    "### 5.5.3 RNNLM's training code\n",
    "is in ch05/train_custom_loop.py"
   ]
  },
  {
   "cell_type": "code",
   "execution_count": 5,
   "metadata": {},
   "outputs": [
    {
     "name": "stdout",
     "output_type": "stream",
     "text": [
      "말뭉치 크기: 1000, 어휘 수: 418\n",
      "| 에폭 1 | 퍼플렉서티 395.79\n",
      "| 에폭 2 | 퍼플렉서티 268.60\n",
      "| 에폭 3 | 퍼플렉서티 226.76\n",
      "| 에폭 4 | 퍼플렉서티 215.26\n",
      "| 에폭 5 | 퍼플렉서티 205.30\n",
      "| 에폭 6 | 퍼플렉서티 202.72\n",
      "| 에폭 7 | 퍼플렉서티 198.14\n",
      "| 에폭 8 | 퍼플렉서티 196.79\n",
      "| 에폭 9 | 퍼플렉서티 190.71\n",
      "| 에폭 10 | 퍼플렉서티 193.16\n",
      "| 에폭 11 | 퍼플렉서티 189.30\n",
      "| 에폭 12 | 퍼플렉서티 192.58\n",
      "| 에폭 13 | 퍼플렉서티 190.57\n",
      "| 에폭 14 | 퍼플렉서티 190.17\n",
      "| 에폭 15 | 퍼플렉서티 189.53\n",
      "| 에폭 16 | 퍼플렉서티 186.46\n",
      "| 에폭 17 | 퍼플렉서티 184.10\n",
      "| 에폭 18 | 퍼플렉서티 180.66\n",
      "| 에폭 19 | 퍼플렉서티 182.51\n",
      "| 에폭 20 | 퍼플렉서티 183.51\n",
      "| 에폭 21 | 퍼플렉서티 181.91\n",
      "| 에폭 22 | 퍼플렉서티 178.26\n",
      "| 에폭 23 | 퍼플렉서티 174.94\n",
      "| 에폭 24 | 퍼플렉서티 174.91\n",
      "| 에폭 25 | 퍼플렉서티 172.91\n",
      "| 에폭 26 | 퍼플렉서티 174.41\n",
      "| 에폭 27 | 퍼플렉서티 167.70\n",
      "| 에폭 28 | 퍼플렉서티 165.92\n",
      "| 에폭 29 | 퍼플렉서티 163.29\n",
      "| 에폭 30 | 퍼플렉서티 158.20\n",
      "| 에폭 31 | 퍼플렉서티 157.39\n",
      "| 에폭 32 | 퍼플렉서티 154.17\n",
      "| 에폭 33 | 퍼플렉서티 153.04\n",
      "| 에폭 34 | 퍼플렉서티 147.14\n",
      "| 에폭 35 | 퍼플렉서티 146.13\n",
      "| 에폭 36 | 퍼플렉서티 137.93\n",
      "| 에폭 37 | 퍼플렉서티 135.04\n",
      "| 에폭 38 | 퍼플렉서티 131.60\n",
      "| 에폭 39 | 퍼플렉서티 124.96\n",
      "| 에폭 40 | 퍼플렉서티 120.69\n",
      "| 에폭 41 | 퍼플렉서티 119.96\n",
      "| 에폭 42 | 퍼플렉서티 112.98\n",
      "| 에폭 43 | 퍼플렉서티 108.75\n",
      "| 에폭 44 | 퍼플렉서티 104.12\n",
      "| 에폭 45 | 퍼플렉서티 101.07\n",
      "| 에폭 46 | 퍼플렉서티 98.82\n",
      "| 에폭 47 | 퍼플렉서티 92.01\n",
      "| 에폭 48 | 퍼플렉서티 87.59\n",
      "| 에폭 49 | 퍼플렉서티 84.86\n",
      "| 에폭 50 | 퍼플렉서티 79.30\n",
      "| 에폭 51 | 퍼플렉서티 76.19\n",
      "| 에폭 52 | 퍼플렉서티 74.11\n",
      "| 에폭 53 | 퍼플렉서티 69.38\n",
      "| 에폭 54 | 퍼플렉서티 67.20\n",
      "| 에폭 55 | 퍼플렉서티 63.09\n",
      "| 에폭 56 | 퍼플렉서티 59.43\n",
      "| 에폭 57 | 퍼플렉서티 56.14\n",
      "| 에폭 58 | 퍼플렉서티 53.84\n",
      "| 에폭 59 | 퍼플렉서티 50.56\n",
      "| 에폭 60 | 퍼플렉서티 48.55\n",
      "| 에폭 61 | 퍼플렉서티 46.80\n",
      "| 에폭 62 | 퍼플렉서티 44.62\n",
      "| 에폭 63 | 퍼플렉서티 40.41\n",
      "| 에폭 64 | 퍼플렉서티 38.49\n",
      "| 에폭 65 | 퍼플렉서티 36.30\n",
      "| 에폭 66 | 퍼플렉서티 34.00\n",
      "| 에폭 67 | 퍼플렉서티 32.52\n",
      "| 에폭 68 | 퍼플렉서티 30.11\n",
      "| 에폭 69 | 퍼플렉서티 28.75\n",
      "| 에폭 70 | 퍼플렉서티 27.81\n",
      "| 에폭 71 | 퍼플렉서티 25.35\n",
      "| 에폭 72 | 퍼플렉서티 24.04\n",
      "| 에폭 73 | 퍼플렉서티 22.13\n",
      "| 에폭 74 | 퍼플렉서티 21.48\n",
      "| 에폭 75 | 퍼플렉서티 20.67\n",
      "| 에폭 76 | 퍼플렉서티 19.22\n",
      "| 에폭 77 | 퍼플렉서티 18.12\n",
      "| 에폭 78 | 퍼플렉서티 17.10\n",
      "| 에폭 79 | 퍼플렉서티 16.21\n",
      "| 에폭 80 | 퍼플렉서티 15.04\n",
      "| 에폭 81 | 퍼플렉서티 14.06\n",
      "| 에폭 82 | 퍼플렉서티 14.25\n",
      "| 에폭 83 | 퍼플렉서티 12.91\n",
      "| 에폭 84 | 퍼플렉서티 12.16\n",
      "| 에폭 85 | 퍼플렉서티 11.38\n",
      "| 에폭 86 | 퍼플렉서티 10.96\n",
      "| 에폭 87 | 퍼플렉서티 10.51\n",
      "| 에폭 88 | 퍼플렉서티 9.99\n",
      "| 에폭 89 | 퍼플렉서티 9.29\n",
      "| 에폭 90 | 퍼플렉서티 9.00\n",
      "| 에폭 91 | 퍼플렉서티 8.58\n",
      "| 에폭 92 | 퍼플렉서티 8.10\n",
      "| 에폭 93 | 퍼플렉서티 7.60\n",
      "| 에폭 94 | 퍼플렉서티 7.49\n",
      "| 에폭 95 | 퍼플렉서티 7.43\n",
      "| 에폭 96 | 퍼플렉서티 6.82\n",
      "| 에폭 97 | 퍼플렉서티 6.58\n",
      "| 에폭 98 | 퍼플렉서티 6.43\n",
      "| 에폭 99 | 퍼플렉서티 6.24\n",
      "| 에폭 100 | 퍼플렉서티 5.84\n"
     ]
    },
    {
     "data": {
      "image/png": "[encoded data removed]",
      "text/plain": [
       "<Figure size 640x480 with 1 Axes>"
      ]
     },
     "metadata": {},
     "output_type": "display_data"
    }
   ],
   "source": [
    "import train_custom_loop"
   ]
  },
  {
   "cell_type": "code",
   "execution_count": 9,
   "metadata": {},
   "outputs": [],
   "source": [
    "import train_custom_loop"
   ]
  },
  {
   "cell_type": "code",
   "execution_count": null,
   "metadata": {},
   "outputs": [],
   "source": []
  }
 ],
 "metadata": {
  "kernelspec": {
   "display_name": "base",
   "language": "python",
   "name": "python3"
  },
  "language_info": {
   "codemirror_mode": {
    "name": "ipython",
    "version": 3
   },
   "file_extension": ".py",
   "mimetype": "text/x-python",
   "name": "python",
   "nbconvert_exporter": "python",
   "pygments_lexer": "ipython3",
   "version": "3.11.5"
  }
 },
 "nbformat": 4,
 "nbformat_minor": 2
}
